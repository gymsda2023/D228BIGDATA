{
 "cells": [
  {
   "cell_type": "code",
   "execution_count": null,
   "id": "357d1cc9-0fe7-407a-930f-2d7bd9ee75ae",
   "metadata": {},
   "outputs": [],
   "source": [
    "#testing conumption of stock stream data\n",
    "from confluent_kafka import Consumer, KafkaError\n",
    "\n",
    "def consume_stock_data(topic, num_messages):\n",
    "    conf = {\n",
    "        'bootstrap.servers': '145.191.53.50:9092',\n",
    "        'group.id': 'stock-data-consumer',\n",
    "        'auto.offset.reset': 'earliest'\n",
    "    }\n",
    "\n",
    "    consumer = Consumer(conf)\n",
    "    consumer.subscribe([topic])\n",
    "\n",
    "    messages = []\n",
    "    for _ in range(num_messages):\n",
    "        message = consumer.poll(1.0)\n",
    "        if message is None:\n",
    "            continue\n",
    "        if message.error():\n",
    "            if message.error().code() == KafkaError._PARTITION_EOF:\n",
    "                # End of partition event - not an error.\n",
    "                print(f'Reached end of partition {message.partition()}.')\n",
    "            else:\n",
    "                print(f'Error while consuming message: {message.error()}')\n",
    "        else:\n",
    "            # Proper message\n",
    "            messages.append(message.value().decode('utf-8'))\n",
    "\n",
    "    consumer.close()\n",
    "    return messages\n",
    "\n",
    "# Consume messages from the 'stock-streaming-topic' topic\n",
    "num_messages_to_fetch = 100  # You can change this to the number of messages you wish to fetch\n",
    "messages = consume_stock_data('stock-streaming-topic', num_messages_to_fetch)\n",
    "\n",
    "# Print out the content of the received stock data messages\n",
    "for msg in messages:\n",
    "    print(msg)\n"
   ]
  }
 ],
 "metadata": {
  "kernelspec": {
   "display_name": "Python 3 (ipykernel)",
   "language": "python",
   "name": "python3"
  },
  "language_info": {
   "codemirror_mode": {
    "name": "ipython",
    "version": 3
   },
   "file_extension": ".py",
   "mimetype": "text/x-python",
   "name": "python",
   "nbconvert_exporter": "python",
   "pygments_lexer": "ipython3",
   "version": "3.9.16"
  }
 },
 "nbformat": 4,
 "nbformat_minor": 5
}
