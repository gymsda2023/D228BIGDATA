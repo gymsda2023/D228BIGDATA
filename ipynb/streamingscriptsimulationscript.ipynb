{
 "cells": [
  {
   "cell_type": "code",
   "execution_count": null,
   "id": "612dff2b-061c-44f3-97e1-c300435c93f4",
   "metadata": {},
   "outputs": [],
   "source": []
  },
  {
   "cell_type": "code",
   "execution_count": null,
   "id": "c8dd74b6-6a1e-45e3-920e-4d562f0e5ead",
   "metadata": {},
   "outputs": [],
   "source": [
    "#StockStream Simulation Script For Testing\n",
    "from confluent_kafka import Producer\n",
    "import time\n",
    "import random\n",
    "import json\n",
    "\n",
    "def delivery_report(err, msg):\n",
    "    \"\"\" Called once for each message produced to indicate delivery result. \"\"\"\n",
    "    if err is not None:\n",
    "        print(f'Message delivery failed: {err}')\n",
    "    else:\n",
    "        print(f'Message delivered to {msg.topic()} [{msg.partition()}] with value {msg.value().decode(\"utf-8\")}')\n",
    "\n",
    "def produce_stock_data():\n",
    "    # Set up Kafka configuration\n",
    "    conf = {\n",
    "        'bootstrap.servers': '145.191.53.50:9092',  # Adjust if your broker is different\n",
    "        'client.id': 'stock-data-producer'\n",
    "    }\n",
    "\n",
    "    producer = Producer(conf)\n",
    "\n",
    "    # Simulate stock streaming data\n",
    "    for _ in range(1000):  # Simulate data for 1000 time intervals\n",
    "        stock_symbol = 'AAPL'  # Example stock symbol (you can change this)\n",
    "        stock_price = round(random.uniform(100, 200), 2)  # Random stock price\n",
    "        stock_volume = random.randint(10000, 50000)  # Random trading volume\n",
    "\n",
    "        # Create a JSON message with stock data\n",
    "        stock_data = {\n",
    "            'symbol': stock_symbol,\n",
    "            'price': stock_price,\n",
    "            'volume': stock_volume\n",
    "        }\n",
    "\n",
    "        # Serialize the JSON data and push it to the Kafka topic\n",
    "        json_data = json.dumps(stock_data)\n",
    "        print(f'Pushing stock data: {json_data}')  # Printing the data before pushing\n",
    "        producer.produce('stock-streaming-topic', value=json_data, callback=delivery_report)\n",
    "        producer.poll(0)\n",
    "\n",
    "        # Sleep for a short interval (simulating real-time data)\n",
    "        time.sleep(1)  # Sleep for 1 second\n",
    "\n",
    "    # Wait for any outstanding messages to be delivered and delivery reports to be received\n",
    "    producer.flush()\n",
    "\n",
    "if __name__ == '__main__':\n",
    "    produce_stock_data()\n"
   ]
  }
 ],
 "metadata": {
  "kernelspec": {
   "display_name": "Python 3 (ipykernel)",
   "language": "python",
   "name": "python3"
  },
  "language_info": {
   "codemirror_mode": {
    "name": "ipython",
    "version": 3
   },
   "file_extension": ".py",
   "mimetype": "text/x-python",
   "name": "python",
   "nbconvert_exporter": "python",
   "pygments_lexer": "ipython3",
   "version": "3.9.16"
  }
 },
 "nbformat": 4,
 "nbformat_minor": 5
}
